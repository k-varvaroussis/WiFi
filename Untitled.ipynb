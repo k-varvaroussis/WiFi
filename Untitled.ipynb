{
 "cells": [
  {
   "cell_type": "code",
   "execution_count": null,
   "metadata": {
    "slideshow": {
     "slide_type": "notes"
    }
   },
   "outputs": [],
   "source": [
    "%matplotlib inline\n",
    "import pandas as pd\n",
    "from pandas.plotting import scatter_matrix\n",
    "import numpy as np\n",
    "from numpy import random\n",
    "from matplotlib import pyplot as plt\n",
    "from pylab import *  # for figsize\n",
    "import matplotlib.dates as mdates\n",
    "from statsmodels.graphics.gofplots import qqplot\n",
    "from scipy.stats import shapiro\n",
    "import seaborn as sns\n",
    "sns.set()\n",
    "sns.set(style=\"ticks\")\n",
    "\n",
    "import plotly.plotly as py\n",
    "from plotly.graph_objs import *\n",
    "py.sign_in(username = 'k_varvaroussis', api_key = 'oXOw5WhzVgkZYfA4H8VK')\n",
    "\n",
    "import sklearn as sl\n",
    "import sklearn.linear_model\n",
    "import sklearn.datasets\n",
    "from sklearn.model_selection import StratifiedShuffleSplit\n",
    "from sklearn.model_selection import StratifiedKFold\n",
    "from sklearn.model_selection import KFold\n",
    "from sklearn.linear_model import LinearRegression\n",
    "import io\n",
    "import requests\n",
    "import os\n",
    "import tarfile\n",
    "from six.moves import urllib\n",
    "from sklearn.preprocessing import Imputer\n",
    "from sklearn.preprocessing import LabelEncoder\n",
    "from sklearn.preprocessing import OneHotEncoder\n",
    "from sklearn.preprocessing import LabelBinarizer\n",
    "from sklearn.base import BaseEstimator, TransformerMixin\n",
    "from sklearn.pipeline import Pipeline\n",
    "from sklearn.preprocessing import StandardScaler\n",
    "#from future_encoders import ColumnTransformer\n",
    "from sklearn.model_selection import StratifiedShuffleSplit as SSS\n",
    "from sklearn.preprocessing import Normalizer\n",
    "from sklearn import preprocessing\n",
    "from sklearn.model_selection import train_test_split\n",
    "from sklearn.metrics import mean_squared_error\n",
    "from sklearn.tree import DecisionTreeClassifier\n",
    "from sklearn import tree\n",
    "from sklearn.ensemble import RandomForestClassifier\n",
    "from sklearn.ensemble import RandomForestRegressor\n",
    "from sklearn.datasets import make_classification\n",
    "from sklearn.metrics import r2_score\n",
    "from sklearn.ensemble import GradientBoostingRegressor\n",
    "from sklearn.multioutput import MultiOutputRegressor\n",
    "from sklearn.multioutput import MultiOutputClassifier\n",
    "from sklearn.ensemble import AdaBoostClassifier\n",
    "from sklearn.ensemble import GradientBoostingClassifier\n",
    "from sklearn.metrics import mean_squared_error\n",
    "\n",
    "from IPython.core.display import display,HTML\n",
    "\n",
    "from IPython.display import HTML\n",
    "import warnings\n",
    "\n",
    "warnings.filterwarnings(\"ignore\")\n",
    "\n",
    "import io\n",
    "import requests"
   ]
  },
  {
   "cell_type": "code",
   "execution_count": null,
   "metadata": {},
   "outputs": [],
   "source": [
    "#print(sklearn.__version__)"
   ]
  },
  {
   "cell_type": "markdown",
   "metadata": {
    "slideshow": {
     "slide_type": "notes"
    }
   },
   "source": [
    "## Load training and validation set"
   ]
  },
  {
   "cell_type": "code",
   "execution_count": null,
   "metadata": {},
   "outputs": [],
   "source": [
    "url=\"https://raw.githubusercontent.com/k-varvaroussis/WiFi/master/trainingData.csv\"\n",
    "s=requests.get(url).content\n",
    "train = pd.read_csv(io.StringIO(s.decode('utf-8')))"
   ]
  },
  {
   "cell_type": "code",
   "execution_count": null,
   "metadata": {},
   "outputs": [],
   "source": [
    "url2=\"https://raw.githubusercontent.com/k-varvaroussis/WiFi/master/validationData.csv\"\n",
    "s2=requests.get(url2).content\n",
    "valid = pd.read_csv(io.StringIO(s2.decode('utf-8')))"
   ]
  },
  {
   "cell_type": "code",
   "execution_count": null,
   "metadata": {},
   "outputs": [],
   "source": [
    "pd.set_option('display.max_columns', 90)"
   ]
  },
  {
   "cell_type": "code",
   "execution_count": null,
   "metadata": {},
   "outputs": [],
   "source": [
    "#train.head()"
   ]
  },
  {
   "cell_type": "code",
   "execution_count": null,
   "metadata": {},
   "outputs": [],
   "source": [
    "#train.describe()"
   ]
  },
  {
   "cell_type": "markdown",
   "metadata": {
    "slideshow": {
     "slide_type": "notes"
    }
   },
   "source": [
    "# Preprocessing"
   ]
  },
  {
   "cell_type": "markdown",
   "metadata": {},
   "source": [
    "## Drop duplicates (unused)"
   ]
  },
  {
   "cell_type": "code",
   "execution_count": null,
   "metadata": {},
   "outputs": [],
   "source": [
    "train = train.drop_duplicates(subset = None, keep = \"first\", inplace = False)"
   ]
  },
  {
   "cell_type": "code",
   "execution_count": null,
   "metadata": {},
   "outputs": [],
   "source": [
    "#train.info()"
   ]
  },
  {
   "cell_type": "markdown",
   "metadata": {
    "slideshow": {
     "slide_type": "notes"
    }
   },
   "source": [
    "## Change unix-time into datetime-format"
   ]
  },
  {
   "cell_type": "code",
   "execution_count": null,
   "metadata": {},
   "outputs": [],
   "source": [
    "train.TIMESTAMP = pd.to_datetime(train.TIMESTAMP, unit = 's')"
   ]
  },
  {
   "cell_type": "code",
   "execution_count": null,
   "metadata": {},
   "outputs": [],
   "source": [
    "valid.TIMESTAMP = pd.to_datetime(valid.TIMESTAMP, unit = 's')"
   ]
  },
  {
   "cell_type": "code",
   "execution_count": null,
   "metadata": {},
   "outputs": [],
   "source": [
    "#valid.head(20)"
   ]
  },
  {
   "cell_type": "markdown",
   "metadata": {
    "slideshow": {
     "slide_type": "notes"
    }
   },
   "source": [
    "## Transform 100s into -105s"
   ]
  },
  {
   "cell_type": "code",
   "execution_count": null,
   "metadata": {},
   "outputs": [],
   "source": [
    "waps2 = waps.replace(100,-105)"
   ]
  },
  {
   "cell_type": "code",
   "execution_count": null,
   "metadata": {},
   "outputs": [],
   "source": [
    "#waps3.info()"
   ]
  },
  {
   "cell_type": "code",
   "execution_count": null,
   "metadata": {},
   "outputs": [],
   "source": [
    "#train2.info()"
   ]
  },
  {
   "cell_type": "code",
   "execution_count": null,
   "metadata": {},
   "outputs": [],
   "source": [
    "keeps = [\"LONGITUDE\", \"LATITUDE\", \"FLOOR\", \"BUILDINGID\", \"SPACEID\",\"RELATIVEPOSITION\",\"USERID\",\"PHONEID\"]"
   ]
  },
  {
   "cell_type": "code",
   "execution_count": null,
   "metadata": {},
   "outputs": [],
   "source": [
    "train3 = train2[keeps]"
   ]
  },
  {
   "cell_type": "code",
   "execution_count": null,
   "metadata": {},
   "outputs": [],
   "source": [
    "train4 = pd.concat([train3, waps2], axis=1)"
   ]
  },
  {
   "cell_type": "code",
   "execution_count": null,
   "metadata": {},
   "outputs": [],
   "source": [
    "#train4.head()"
   ]
  },
  {
   "cell_type": "markdown",
   "metadata": {
    "slideshow": {
     "slide_type": "notes"
    }
   },
   "source": [
    "## NANs, 0-variation, Outliers"
   ]
  },
  {
   "cell_type": "code",
   "execution_count": null,
   "metadata": {},
   "outputs": [],
   "source": [
    "tr_descr = train.describe()"
   ]
  },
  {
   "cell_type": "code",
   "execution_count": null,
   "metadata": {},
   "outputs": [],
   "source": [
    "#tr_descr"
   ]
  },
  {
   "cell_type": "code",
   "execution_count": null,
   "metadata": {},
   "outputs": [],
   "source": [
    "#train.info()"
   ]
  },
  {
   "cell_type": "code",
   "execution_count": null,
   "metadata": {},
   "outputs": [],
   "source": [
    "#train.dtypes"
   ]
  },
  {
   "cell_type": "code",
   "execution_count": null,
   "metadata": {},
   "outputs": [],
   "source": [
    "#valid.describe()"
   ]
  },
  {
   "cell_type": "markdown",
   "metadata": {
    "slideshow": {
     "slide_type": "skip"
    }
   },
   "source": [
    "### Check for NANs"
   ]
  },
  {
   "cell_type": "code",
   "execution_count": null,
   "metadata": {},
   "outputs": [],
   "source": [
    "train.isnull().values.any()"
   ]
  },
  {
   "cell_type": "code",
   "execution_count": null,
   "metadata": {},
   "outputs": [],
   "source": [
    "train.isna().values.any()"
   ]
  },
  {
   "cell_type": "markdown",
   "metadata": {
    "slideshow": {
     "slide_type": "notes"
    }
   },
   "source": [
    "### remove WAPs with only 100s"
   ]
  },
  {
   "cell_type": "code",
   "execution_count": null,
   "metadata": {},
   "outputs": [],
   "source": [
    "#type(train.std())"
   ]
  },
  {
   "cell_type": "code",
   "execution_count": null,
   "metadata": {},
   "outputs": [],
   "source": [
    "train2 = train[train.std()[train.std()!=0].index]"
   ]
  },
  {
   "cell_type": "code",
   "execution_count": null,
   "metadata": {},
   "outputs": [],
   "source": [
    "#train2.head()"
   ]
  },
  {
   "cell_type": "markdown",
   "metadata": {
    "slideshow": {
     "slide_type": "notes"
    }
   },
   "source": [
    "### Look for outliers"
   ]
  },
  {
   "cell_type": "code",
   "execution_count": null,
   "metadata": {},
   "outputs": [],
   "source": [
    "#train2.describe()"
   ]
  },
  {
   "cell_type": "markdown",
   "metadata": {
    "slideshow": {
     "slide_type": "notes"
    }
   },
   "source": [
    "### Check if there are zeros in the WAPs"
   ]
  },
  {
   "cell_type": "code",
   "execution_count": null,
   "metadata": {},
   "outputs": [],
   "source": [
    "waps = train2.drop(columns = [\"LONGITUDE\", \"LATITUDE\", \"FLOOR\", \"BUILDINGID\", \"SPACEID\",\"RELATIVEPOSITION\",\"USERID\",\"PHONEID\"])"
   ]
  },
  {
   "cell_type": "code",
   "execution_count": null,
   "metadata": {},
   "outputs": [],
   "source": [
    "#waps.head()"
   ]
  },
  {
   "cell_type": "code",
   "execution_count": null,
   "metadata": {},
   "outputs": [],
   "source": [
    " 0 in waps.values"
   ]
  },
  {
   "cell_type": "markdown",
   "metadata": {
    "slideshow": {
     "slide_type": "notes"
    }
   },
   "source": [
    "### Test space ID has only integers"
   ]
  },
  {
   "cell_type": "code",
   "execution_count": null,
   "metadata": {},
   "outputs": [],
   "source": [
    "#train4.SPACEID.describe()"
   ]
  },
  {
   "cell_type": "code",
   "execution_count": null,
   "metadata": {},
   "outputs": [],
   "source": [
    "np.array_equal(train4.SPACEID, train4.SPACEID.astype(int))"
   ]
  },
  {
   "cell_type": "markdown",
   "metadata": {
    "slideshow": {
     "slide_type": "notes"
    }
   },
   "source": [
    "### Apply new range (-30 : -85)"
   ]
  },
  {
   "cell_type": "code",
   "execution_count": null,
   "metadata": {},
   "outputs": [],
   "source": [
    "#X_range = X_train2 #This needs the X_train2 formed below at \"X,y Split\"\n",
    "#\n",
    "#count_cols = {}\n",
    "#for i in X_train2.columns:\n",
    "#    count_cols[i] = 0\n",
    "#\n",
    "#count_rows = {}\n",
    "#for i in X_train2.index:\n",
    "#    count_rows[i] = 0\n",
    "#\n",
    "#for i in X_train2.columns:\n",
    "#    for j in X_train2.index:\n",
    "#        if ((X_range.loc[[j],[str(i)]] < -40).bool() & (X_range.loc[[j],[str(i)]] > -85).bool()):\n",
    "#            count_cols[i] += 1\n",
    "#            count_rows[j] += 1\n",
    "#\n",
    "#new_cols = [col for col in count_cols if count_cols[col]!=0]\n",
    "#new_rows = [row for row in count_rows if count_rows[row]!=0]#"
   ]
  },
  {
   "cell_type": "code",
   "execution_count": null,
   "metadata": {},
   "outputs": [],
   "source": [
    "#df_ranged = X_train2[new_cols]\n",
    "#df_ranged.index = new_rows"
   ]
  },
  {
   "cell_type": "markdown",
   "metadata": {
    "slideshow": {
     "slide_type": "notes"
    }
   },
   "source": [
    "### create new_range function"
   ]
  },
  {
   "cell_type": "code",
   "execution_count": null,
   "metadata": {},
   "outputs": [],
   "source": [
    "def new_range(lower_limit, upper_limit, old_df): # input (sliced) df which consists only of columns to be ranged\n",
    "\n",
    "    df_ranged = old_df                           # returns df where all columns or rows are deleted that contain \n",
    "                                                 # not one single value within the limits\n",
    "    count_cols = {}\n",
    "    for i in old_df.columns:\n",
    "        count_cols[i] = 0\n",
    "    \n",
    "    count_rows = {}\n",
    "    for i in old_df.index:\n",
    "        count_rows[i] = 0\n",
    "    \n",
    "    for i in old_df.columns:\n",
    "        for j in old_df.index:\n",
    "            if ((df_ranged.loc[[j],[str(i)]] < -40).bool() & (df_ranged.loc[[j],[str(i)]] > -85).bool()):\n",
    "                count_cols[i] += 1\n",
    "                count_rows[j] += 1\n",
    "    \n",
    "    new_cols = [col for col in count_cols if count_cols[col]!=0]\n",
    "    new_rows = [row for row in count_rows if count_rows[row]!=0]\n",
    "    \n",
    "    df_ranged = old_df[new_cols]\n",
    "    df_ranged.index = new_rows\n",
    "    \n",
    "    return df_ranged"
   ]
  },
  {
   "cell_type": "code",
   "execution_count": null,
   "metadata": {},
   "outputs": [],
   "source": [
    "new_range(-80,-40, X_train2)"
   ]
  },
  {
   "cell_type": "markdown",
   "metadata": {
    "slideshow": {
     "slide_type": "notes"
    }
   },
   "source": [
    "## Visualizations"
   ]
  },
  {
   "cell_type": "markdown",
   "metadata": {
    "slideshow": {
     "slide_type": "notes"
    }
   },
   "source": [
    "### Histograms of L & L"
   ]
  },
  {
   "cell_type": "code",
   "execution_count": null,
   "metadata": {},
   "outputs": [],
   "source": [
    "#train4.LATITUDE.describe()"
   ]
  },
  {
   "cell_type": "code",
   "execution_count": null,
   "metadata": {},
   "outputs": [],
   "source": [
    "bins = arange(4.864746e+06,4.86520e+06,0.00002e+06)\n",
    "#plt.hist(train4.LATITUDE,bins = bins)"
   ]
  },
  {
   "cell_type": "code",
   "execution_count": null,
   "metadata": {},
   "outputs": [],
   "source": [
    "#train4.LONGITUDE.describe()"
   ]
  },
  {
   "cell_type": "code",
   "execution_count": null,
   "metadata": {},
   "outputs": [],
   "source": [
    "bins = arange(-7691.338400,-7301,20)\n",
    "#plt.hist(train4.LONGITUDE,bins = bins)"
   ]
  },
  {
   "cell_type": "code",
   "execution_count": null,
   "metadata": {},
   "outputs": [],
   "source": [
    "#plt.style.use('seaborn-whitegrid')"
   ]
  },
  {
   "cell_type": "markdown",
   "metadata": {
    "slideshow": {
     "slide_type": "notes"
    }
   },
   "source": [
    "### Form predictions arrays into df's"
   ]
  },
  {
   "cell_type": "code",
   "execution_count": null,
   "metadata": {},
   "outputs": [],
   "source": [
    "valid_pred1 = pd.DataFrame(data = valid_pred1[0:,0:],          # sections below needed\n",
    "                           index = range(0,len(valid_pred1)),\n",
    "                           columns = ['LONGITUDE','LATITUDE'])"
   ]
  },
  {
   "cell_type": "code",
   "execution_count": null,
   "metadata": {},
   "outputs": [],
   "source": [
    "y_3 = pd.DataFrame(data = y_3[0:,0:],\n",
    "                           index = range(0,len(y_3)),\n",
    "                           columns = ['BUILDING','FLOOR'])"
   ]
  },
  {
   "cell_type": "code",
   "execution_count": null,
   "metadata": {},
   "outputs": [],
   "source": [
    "#y_3"
   ]
  },
  {
   "cell_type": "code",
   "execution_count": null,
   "metadata": {},
   "outputs": [],
   "source": [
    "len(valid_pred1[1:,0])"
   ]
  },
  {
   "cell_type": "markdown",
   "metadata": {
    "slideshow": {
     "slide_type": "notes"
    }
   },
   "source": [
    "# 1. multi-output classification"
   ]
  },
  {
   "cell_type": "markdown",
   "metadata": {
    "slideshow": {
     "slide_type": "notes"
    }
   },
   "source": [
    "## Splits"
   ]
  },
  {
   "cell_type": "markdown",
   "metadata": {
    "slideshow": {
     "slide_type": "notes"
    }
   },
   "source": [
    "### first-order split"
   ]
  },
  {
   "cell_type": "code",
   "execution_count": null,
   "metadata": {},
   "outputs": [],
   "source": [
    "Ssplit = SSS(n_splits=1, test_size=0.2, random_state=42)\n",
    "Ssplit\n",
    "for train_index, test_index in Ssplit.split(train4,train4[\"LONGITUDE\"]):\n",
    "    train_set = train4.loc[train_index]\n",
    "    test_set = train4.loc[test_index]"
   ]
  },
  {
   "cell_type": "code",
   "execution_count": null,
   "metadata": {},
   "outputs": [],
   "source": [
    "train_set.isna().values.any()"
   ]
  },
  {
   "cell_type": "code",
   "execution_count": null,
   "metadata": {},
   "outputs": [],
   "source": [
    "train_set.info()"
   ]
  },
  {
   "cell_type": "markdown",
   "metadata": {
    "slideshow": {
     "slide_type": "notes"
    }
   },
   "source": [
    "### X,y Split"
   ]
  },
  {
   "cell_type": "code",
   "execution_count": null,
   "metadata": {},
   "outputs": [],
   "source": [
    "X_train = train_set.drop(columns =[\"BUILDINGID\",\"FLOOR\", \"LONGITUDE\", \"LATITUDE\",\"SPACEID\", \"RELATIVEPOSITION\",\"PHONEID\",\"USERID\"])"
   ]
  },
  {
   "cell_type": "code",
   "execution_count": null,
   "metadata": {},
   "outputs": [],
   "source": [
    "#X_train.columns"
   ]
  },
  {
   "cell_type": "code",
   "execution_count": null,
   "metadata": {},
   "outputs": [],
   "source": [
    "X_train2 = X_train.loc[:,common_cols(waps7,X_train)].dropna(axis = 'columns', thresh = 1)"
   ]
  },
  {
   "cell_type": "code",
   "execution_count": null,
   "metadata": {},
   "outputs": [],
   "source": [
    "#X_train2.info()"
   ]
  },
  {
   "cell_type": "code",
   "execution_count": null,
   "metadata": {},
   "outputs": [],
   "source": [
    "X_train2.isnull().values.any()"
   ]
  },
  {
   "cell_type": "code",
   "execution_count": null,
   "metadata": {},
   "outputs": [],
   "source": [
    "keeps = [\"BUILDINGID\",\"FLOOR\"]\n",
    "y_train = train_set[keeps]"
   ]
  },
  {
   "cell_type": "code",
   "execution_count": null,
   "metadata": {},
   "outputs": [],
   "source": [
    "y_train.isnull().values.any()"
   ]
  },
  {
   "cell_type": "markdown",
   "metadata": {},
   "source": [
    "## Self-made accuracy"
   ]
  },
  {
   "cell_type": "markdown",
   "metadata": {},
   "source": [
    "### Define accuracy measure"
   ]
  },
  {
   "cell_type": "code",
   "execution_count": null,
   "metadata": {},
   "outputs": [],
   "source": [
    "#train_set.head()"
   ]
  },
  {
   "cell_type": "code",
   "execution_count": null,
   "metadata": {},
   "outputs": [],
   "source": [
    "def acc_cust(test,pred):  # first paramter has to be a df with columns BUILDINGID and FLOOR, second array\n",
    "    \n",
    "    correct = 0\n",
    "    almost = 0\n",
    "    \n",
    "    build_id = list(i for i in test[\"BUILDINGID\"])\n",
    "    floor = list(i for i in test[\"FLOOR\"])\n",
    "    \n",
    "    for i in range(0,len(pred)):\n",
    "        if (build_id[i] == pred[i][0]) & (floor[i] == pred[i][1]):\n",
    "            correct += 1\n",
    "        elif (build_id[i] == pred[i][0]) & ((floor[i] - pred[i][1]) == 1): #one floor difference is 'almost' correct\n",
    "            almost += 1\n",
    "    \n",
    "    result = [correct / len(pred), almost / len(pred)]\n",
    "    \n",
    "    return result"
   ]
  },
  {
   "cell_type": "markdown",
   "metadata": {},
   "source": [
    "### test accuracy measure"
   ]
  },
  {
   "cell_type": "code",
   "execution_count": null,
   "metadata": {},
   "outputs": [],
   "source": [
    "dic1 = {'BUILDINGID':[0,1,2,1], 'FLOOR':[1,2,3,4]}\n",
    "test = pd.DataFrame(data = dic1)"
   ]
  },
  {
   "cell_type": "code",
   "execution_count": null,
   "metadata": {},
   "outputs": [],
   "source": [
    "#dic2 = {'BUILDINGID':[0,2,0,1], 'FLOOR':[1,2,3,4]}\n",
    "#pred = pd.DataFrame(data = dic2)"
   ]
  },
  {
   "cell_type": "code",
   "execution_count": null,
   "metadata": {},
   "outputs": [],
   "source": [
    "pred = [[0,1],[1,1],[1,3],[1,1]]"
   ]
  },
  {
   "cell_type": "code",
   "execution_count": null,
   "metadata": {},
   "outputs": [],
   "source": [
    "#test.loc[[1],[\"BUILDINGID\"]] == pred.loc[[1],[\"BUILDINGID\"]])#.loc[0].bool() & (test.loc[[0],[\"FLOOR\"]] == pred.loc[[0],[\"FLOOR\"]]).loc[0].bool()"
   ]
  },
  {
   "cell_type": "code",
   "execution_count": null,
   "metadata": {},
   "outputs": [],
   "source": [
    "#test.loc[[0],[\"BUILDINGID\"]] #test.loc[[0],[\"BUILDINGID\"]] #== pred.loc[[0],[\"BUILDINGID\"]] & False"
   ]
  },
  {
   "cell_type": "code",
   "execution_count": null,
   "metadata": {},
   "outputs": [],
   "source": [
    "print(acc_cust(test, pred))#works"
   ]
  },
  {
   "cell_type": "markdown",
   "metadata": {},
   "source": [
    "## Decision Tree"
   ]
  },
  {
   "cell_type": "code",
   "execution_count": null,
   "metadata": {},
   "outputs": [],
   "source": [
    "regr_1 = DecisionTreeClassifier(max_depth=2, random_state = 27)\n",
    "regr_2 = DecisionTreeClassifier(max_depth=5, random_state = 27)\n",
    "regr_3 = DecisionTreeClassifier(max_depth=8, random_state = 27)"
   ]
  },
  {
   "cell_type": "markdown",
   "metadata": {},
   "source": [
    "### Cross-validation"
   ]
  },
  {
   "cell_type": "code",
   "execution_count": null,
   "metadata": {},
   "outputs": [],
   "source": [
    "#skf = StratifiedKFold(n_splits=5, shuffle=False, random_state=26) DOES NOT WORK ON MULTI_LABEL"
   ]
  },
  {
   "cell_type": "code",
   "execution_count": null,
   "metadata": {},
   "outputs": [],
   "source": [
    "kf = KFold(n_splits = 3, random_state = 27)"
   ]
  },
  {
   "cell_type": "code",
   "execution_count": null,
   "metadata": {},
   "outputs": [],
   "source": [
    "#train_set.head()"
   ]
  },
  {
   "cell_type": "markdown",
   "metadata": {},
   "source": [
    "### Train"
   ]
  },
  {
   "cell_type": "code",
   "execution_count": null,
   "metadata": {},
   "outputs": [],
   "source": [
    "indices = {}\n",
    "i = 0\n",
    "for train_indices, test_indices in kf.split(X):\n",
    "    i = i + 1\n",
    "    \n",
    "    #indices[i]=train_indices \n",
    "    X_tr = X.loc[train_indices].dropna()\n",
    "    y_tr = y.loc[train_indices].dropna()\n",
    "    \n",
    "    regr_1.fit(X_tr,\n",
    "                y_tr)\n",
    "    regr_2.fit(X_tr,\n",
    "                y_tr)\n",
    "    regr_3.fit(X_tr,\n",
    "                y_tr)\n",
    "    \n",
    "    y_1 = regr_1.predict(X.loc[test_indices].dropna())\n",
    "    y_2 = regr_2.predict(X.loc[test_indices].dropna())\n",
    "    y_3 = regr_3.predict(X.loc[test_indices].dropna())\n",
    "    \n",
    "    #print(np.nonzero(regr_1.feature_importances_))\n",
    "    #print(np.nonzero(regr_2.feature_importances_))\n",
    "    #print(np.nonzero(regr_3.feature_importances_))\n",
    "    #print(str(i) +\". fold\")\n",
    "    #print(\"\\n\")\n",
    "#\n",
    "    #print(\"accuracy measure on cv-test-set (max. depth = 2)\")\n",
    "    #print(acc_cust(train_set.dropna(),y_1))\n",
    "    #print(\"\\n\")\n",
    "    #\n",
    "    #print(\"accuracy measure on cv-test-set (max. depth = 5)\")\n",
    "    #print(acc_cust(train_set.dropna(),y_2))\n",
    "    #print(\"\\n\")\n",
    "    #\n",
    "    #print(\"accuracy measure on cv-test-set (max. depth = 8)\")\n",
    "    #print(acc_cust(train_set.dropna(),y_3))\n",
    "    #    "
   ]
  },
  {
   "cell_type": "markdown",
   "metadata": {},
   "source": [
    "### Feature selection"
   ]
  },
  {
   "cell_type": "markdown",
   "metadata": {},
   "source": [
    "### Visualize predictions"
   ]
  },
  {
   "cell_type": "code",
   "execution_count": null,
   "metadata": {},
   "outputs": [],
   "source": [
    "measured = {                              # run sections below\n",
    "  \"x\":y_valid2['LONGITUDE'], \n",
    "  \"y\": y_valid2['LATITUDE'], \n",
    "  \"z\": valid4['FLOOR'], \n",
    "  \"marker\": {\n",
    "    \"color\": \"blue\", \n",
    "    \"colorscale\": \"Viridis\", \n",
    "    \"opacity\": 1, \n",
    "    \"size\": 4\n",
    "  }, \n",
    "  \"mode\": \"markers\", \n",
    "  \"name\": \"measured\", \n",
    "  \"type\": \"scatter3d\"\n",
    "}"
   ]
  },
  {
   "cell_type": "code",
   "execution_count": null,
   "metadata": {},
   "outputs": [],
   "source": [
    "predictions = {\n",
    "  \"x\":valid_pred1['LONGITUDE'], \n",
    "  \"y\": valid_pred1['LATITUDE'], \n",
    "  \"z\": y_3['FLOOR'], \n",
    "  \"marker\": {\n",
    "    \"color\": \"yellow\", \n",
    "    \"colorscale\": \"Viridis\", \n",
    "    \"opacity\": 1, \n",
    "    \"size\": 4\n",
    "  }, \n",
    "  \"mode\": \"markers\", \n",
    "  \"name\": \"predictions\", \n",
    "  \"type\": \"scatter3d\"\n",
    "}"
   ]
  },
  {
   "cell_type": "code",
   "execution_count": null,
   "metadata": {},
   "outputs": [],
   "source": [
    "data = Data([measured,predictions])\n",
    "layout = {\n",
    "  \"scene\": {\n",
    "    \"xaxis\": {\"title\": \"Longitude\"}, \n",
    "    \"yaxis\": {\"title\": \"Atitude\"}, \n",
    "    \"zaxis\": {\"title\": \"Floor\"}\n",
    "  }, \n",
    "  \"title\": \"WiFi-Locationing in 3 Buildings\"\n",
    "}"
   ]
  },
  {
   "cell_type": "code",
   "execution_count": null,
   "metadata": {
    "scrolled": true
   },
   "outputs": [],
   "source": [
    "fig = Figure(data=data, layout=layout)\n",
    "py.iplot(fig)"
   ]
  },
  {
   "cell_type": "markdown",
   "metadata": {},
   "source": [
    "function returning ordered list of most important attributes, can be used for classifiers as well as regression problems"
   ]
  },
  {
   "cell_type": "code",
   "execution_count": null,
   "metadata": {},
   "outputs": [],
   "source": [
    "def impurity_decrease(data, target, maximum_tree_depth=8):\n",
    "    \n",
    "    dt = tree.DecisionTreeClassifier(max_depth=maximum_tree_depth) #here we can change from classifier to regression\n",
    "\n",
    "    dt = dt.fit(data, target)\n",
    "    \n",
    "    dt = dt.feature_importances_        \n",
    "    \n",
    "    column = data.columns\n",
    "    \n",
    "    column = column.to_series()\n",
    "    \n",
    "    dt_features = pd.DataFrame()        \n",
    "    \n",
    "    dt_features[\"Attribute\"] = column\n",
    "    \n",
    "    dt_features[\"Feature Importance\"] = dt\n",
    "    \n",
    "    dt_features = dt_features.sort_values(by=[\"Feature Importance\"], ascending=False)        \n",
    "    \n",
    "    return dt_features"
   ]
  },
  {
   "cell_type": "code",
   "execution_count": null,
   "metadata": {},
   "outputs": [],
   "source": [
    "#impurity_decrease(X,y).head(10)"
   ]
  },
  {
   "cell_type": "markdown",
   "metadata": {},
   "source": [
    "## Random forest "
   ]
  },
  {
   "cell_type": "markdown",
   "metadata": {},
   "source": [
    "only keep important attributes: [ not used]"
   ]
  },
  {
   "cell_type": "code",
   "execution_count": null,
   "metadata": {},
   "outputs": [],
   "source": [
    "#keeps = list(impurity_decrease(X_train2,y_train).head(30).Attribute)"
   ]
  },
  {
   "cell_type": "markdown",
   "metadata": {},
   "source": [
    "### Form test_set inputs"
   ]
  },
  {
   "cell_type": "code",
   "execution_count": null,
   "metadata": {},
   "outputs": [],
   "source": [
    "X_test = test_set.drop(columns =[\"BUILDINGID\",\"FLOOR\", \"LONGITUDE\", \"LATITUDE\",\"SPACEID\", \"RELATIVEPOSITION\",\"PHONEID\",\"USERID\"])"
   ]
  },
  {
   "cell_type": "code",
   "execution_count": null,
   "metadata": {},
   "outputs": [],
   "source": [
    "X_test2 = X_test.loc[:,common_cols(waps7,X_test)].dropna(axis = 'columns', thresh = 1)"
   ]
  },
  {
   "cell_type": "code",
   "execution_count": null,
   "metadata": {},
   "outputs": [],
   "source": [
    "keeps = [\"BUILDINGID\",\"FLOOR\"]\n",
    "y_test = test_set[keeps]"
   ]
  },
  {
   "cell_type": "markdown",
   "metadata": {},
   "source": [
    "### Non-CV fit & prediction"
   ]
  },
  {
   "cell_type": "code",
   "execution_count": null,
   "metadata": {},
   "outputs": [],
   "source": [
    "clf1 = RandomForestClassifier(n_estimators=1500, max_depth=80,\n",
    "                             random_state=1991)\n",
    "#clf2 = RandomForestClassifier(n_estimators=100, max_depth=2,\n",
    "#                             random_state=0)\n",
    "#clf3 = RandomForestClassifier(n_estimators=100, max_depth=2,\n",
    "#                             random_state=0)"
   ]
  },
  {
   "cell_type": "code",
   "execution_count": null,
   "metadata": {
    "slideshow": {
     "slide_type": "slide"
    }
   },
   "outputs": [],
   "source": [
    "model = clf1.fit(X_train2,y_train)\n",
    "\n",
    "y_1 = model.predict(X_test2)\n",
    "print(acc_cust(test_set,y_1))"
   ]
  },
  {
   "cell_type": "code",
   "execution_count": null,
   "metadata": {},
   "outputs": [],
   "source": [
    "i = 0\n",
    "#for train_indices, test_indices in kf.split(X):\n",
    "#    i = i + 1\n",
    "#    \n",
    "#    #indices[i]=train_indices \n",
    "#    X_tr = X.loc[train_indices].dropna()\n",
    "#    y_tr = y.loc[train_indices].dropna()\n",
    "#    \n",
    "#    clf1.fit(X_tr,\n",
    "#                y_tr)\n",
    "#    #regr_2.fit(X_tr,\n",
    "#    #            y_tr)\n",
    "#    #regr_3.fit(X_tr,\n",
    "#    #            y_tr)\n",
    "#    \n",
    "#    y_1 = clf1.predict(X.loc[test_indices].dropna())\n",
    "#    #y_2 = regr_2.predict(X.loc[test_indices].dropna())\n",
    "#    #y_3 = regr_3.predict(X.loc[test_indices].dropna())\n",
    "#    \n",
    "#    #print(X_tr)\n",
    "#    #print(\"\\n\") #for checking on dataframes\n",
    "#    #print(y_1)\n",
    "#    \n",
    "#    print(str(i) +\". fold\")\n",
    "#    print(\"\\n\")\n",
    "#    \n",
    "#    print(\"accuracy measure on cv-test-set (max. depth = 3)\")\n",
    "#    print(acc_cust(train_set.dropna(),y_1))\n",
    "#    print(\"\\n\")\n",
    "#    \n",
    "#    print(\"accuracy measure on cv-test-set (max. depth = 5)\")\n",
    "#    print(acc_cust(train_set.dropna(),y_2))\n",
    "#    print(\"\\n\")\n",
    "#    \n",
    "#    print(\"accuracy measure on cv-test-set (max. depth = 8)\")\n",
    "#    print(acc_cust(train_set.dropna(),y_3))\n",
    "    \n",
    "    "
   ]
  },
  {
   "cell_type": "markdown",
   "metadata": {},
   "source": [
    "## Ada Boost"
   ]
  },
  {
   "cell_type": "code",
   "execution_count": null,
   "metadata": {},
   "outputs": [],
   "source": [
    "clf2 = AdaBoostClassifier()\n",
    "multi_target_classifier = MultiOutputClassifier(clf2, n_jobs=-1)\n",
    "multi_target_classifier.fit(X_train2,y_train)\n",
    "preds = multi_target_classifier.predict(X_test2)\n",
    "print(acc_cust(test_set,preds))"
   ]
  },
  {
   "cell_type": "markdown",
   "metadata": {},
   "source": [
    "## GBT"
   ]
  },
  {
   "cell_type": "code",
   "execution_count": null,
   "metadata": {},
   "outputs": [],
   "source": [
    "clf3 = GradientBoostingClassifier()\n",
    "multi_target_classifier2 = MultiOutputClassifier(clf3, n_jobs=-1)\n",
    "clf_model3 = multi_target_classifier2.fit(X_train2,y_train)\n",
    "preds2 = clf_model3.predict(X_test2)\n",
    "print(acc_cust(test_set,preds2))"
   ]
  },
  {
   "cell_type": "markdown",
   "metadata": {
    "slideshow": {
     "slide_type": "notes"
    }
   },
   "source": [
    "#  1. multi-output regression "
   ]
  },
  {
   "cell_type": "markdown",
   "metadata": {},
   "source": [
    "This is the continuation of the baseline multi-output classification model, from which we take the output as the input of the following regression model to predict longitude & latitude."
   ]
  },
  {
   "cell_type": "markdown",
   "metadata": {},
   "source": [
    "## Append cls predictions to previous test set (unused)"
   ]
  },
  {
   "cell_type": "code",
   "execution_count": null,
   "metadata": {},
   "outputs": [],
   "source": [
    "test_set[\"Floor\"] = list(y_1[i][1] for i in range(0,len(y_1)))"
   ]
  },
  {
   "cell_type": "code",
   "execution_count": null,
   "metadata": {},
   "outputs": [],
   "source": [
    "test_set[\"Building_id\"] = list(y_1[i][0] for i in range(0,len(y_1)))"
   ]
  },
  {
   "cell_type": "markdown",
   "metadata": {},
   "source": [
    "## Form regression label"
   ]
  },
  {
   "cell_type": "code",
   "execution_count": null,
   "metadata": {},
   "outputs": [],
   "source": [
    "keeps = [\"LONGITUDE\",\"LATITUDE\"]\n",
    "reg_y_train = train_set[keeps]\n",
    "reg_y_test = test_set[keeps]"
   ]
  },
  {
   "cell_type": "markdown",
   "metadata": {},
   "source": [
    "## Random Forest"
   ]
  },
  {
   "cell_type": "code",
   "execution_count": null,
   "metadata": {},
   "outputs": [],
   "source": [
    "reg_4 = RandomForestRegressor(n_estimators = 500, max_depth = 20, random_state = 1991)"
   ]
  },
  {
   "cell_type": "code",
   "execution_count": null,
   "metadata": {},
   "outputs": [],
   "source": [
    "reg_model1 = reg_4.fit(X_train2,reg_y_train)"
   ]
  },
  {
   "cell_type": "code",
   "execution_count": null,
   "metadata": {
    "slideshow": {
     "slide_type": "slide"
    }
   },
   "outputs": [],
   "source": [
    "reg_model1.score(X_test2,reg_y_test)"
   ]
  },
  {
   "cell_type": "code",
   "execution_count": null,
   "metadata": {},
   "outputs": [],
   "source": [
    "#reg_model1"
   ]
  },
  {
   "cell_type": "markdown",
   "metadata": {},
   "source": [
    "## GBT"
   ]
  },
  {
   "cell_type": "code",
   "execution_count": null,
   "metadata": {},
   "outputs": [],
   "source": [
    "reg_model2 = MultiOutputRegressor(GradientBoostingRegressor(), n_jobs=-1).fit(X_train2,reg_y_train)"
   ]
  },
  {
   "cell_type": "code",
   "execution_count": null,
   "metadata": {},
   "outputs": [],
   "source": [
    "reg_model2.score(X_test2, reg_y_test)"
   ]
  },
  {
   "cell_type": "markdown",
   "metadata": {
    "slideshow": {
     "slide_type": "notes"
    }
   },
   "source": [
    "# Solely floor classification"
   ]
  },
  {
   "cell_type": "markdown",
   "metadata": {},
   "source": [
    "Only use floor as independent variable to increase accuracy"
   ]
  },
  {
   "cell_type": "markdown",
   "metadata": {},
   "source": [
    "## Form variables"
   ]
  },
  {
   "cell_type": "code",
   "execution_count": null,
   "metadata": {},
   "outputs": [],
   "source": [
    "keeps = [\"FLOOR\"]\n",
    "cls_y_train = train_set[keeps]\n",
    "cls_y_test = test_set[keeps]"
   ]
  },
  {
   "cell_type": "code",
   "execution_count": null,
   "metadata": {},
   "outputs": [],
   "source": [
    "X_test2 = test_set.drop(columns =[\"FLOOR\", \"LONGITUDE\", \"LATITUDE\",\"SPACEID\", \"RELATIVEPOSITION\",\"PHONEID\",\"USERID\"])"
   ]
  },
  {
   "cell_type": "code",
   "execution_count": null,
   "metadata": {},
   "outputs": [],
   "source": [
    "X_train2 = train_set.drop(columns =[\"FLOOR\", \"LONGITUDE\", \"LATITUDE\",\"SPACEID\", \"RELATIVEPOSITION\",\"PHONEID\",\"USERID\"])"
   ]
  },
  {
   "cell_type": "code",
   "execution_count": null,
   "metadata": {},
   "outputs": [],
   "source": [
    "train_set.info()"
   ]
  },
  {
   "cell_type": "markdown",
   "metadata": {},
   "source": [
    "## Train & Model"
   ]
  },
  {
   "cell_type": "code",
   "execution_count": null,
   "metadata": {},
   "outputs": [],
   "source": [
    "clf2 = RandomForestClassifier(n_estimators=600, max_depth=20,\n",
    "                             random_state=1991)"
   ]
  },
  {
   "cell_type": "code",
   "execution_count": null,
   "metadata": {},
   "outputs": [],
   "source": [
    "cls_model2 = clf2.fit(X_train2,cls_y_train)\n",
    "\n",
    "#y_1 = model2.predict(X_test)\n",
    "cls_model2.score(X_test2,cls_y_test)"
   ]
  },
  {
   "cell_type": "markdown",
   "metadata": {
    "slideshow": {
     "slide_type": "notes"
    }
   },
   "source": [
    "# Test models on validation set"
   ]
  },
  {
   "cell_type": "markdown",
   "metadata": {},
   "source": [
    "## Preprocess validation set"
   ]
  },
  {
   "cell_type": "code",
   "execution_count": null,
   "metadata": {},
   "outputs": [],
   "source": [
    "#valid.info()"
   ]
  },
  {
   "cell_type": "code",
   "execution_count": null,
   "metadata": {},
   "outputs": [],
   "source": [
    "valid.isnull().values.any()"
   ]
  },
  {
   "cell_type": "code",
   "execution_count": null,
   "metadata": {},
   "outputs": [],
   "source": [
    "train.isna().values.any()"
   ]
  },
  {
   "cell_type": "code",
   "execution_count": null,
   "metadata": {},
   "outputs": [],
   "source": [
    "valid2 = valid[valid.std()[valid.std()!=0].index]"
   ]
  },
  {
   "cell_type": "code",
   "execution_count": null,
   "metadata": {},
   "outputs": [],
   "source": [
    "valid2.info()"
   ]
  },
  {
   "cell_type": "code",
   "execution_count": null,
   "metadata": {},
   "outputs": [],
   "source": [
    "waps6 = valid2.drop(columns = [\"LONGITUDE\", \"LATITUDE\", \"FLOOR\", \"BUILDINGID\",\"PHONEID\"])"
   ]
  },
  {
   "cell_type": "code",
   "execution_count": null,
   "metadata": {},
   "outputs": [],
   "source": [
    "0 in waps6.values"
   ]
  },
  {
   "cell_type": "code",
   "execution_count": null,
   "metadata": {},
   "outputs": [],
   "source": [
    "waps7 = waps6.replace(100,-105)"
   ]
  },
  {
   "cell_type": "code",
   "execution_count": null,
   "metadata": {},
   "outputs": [],
   "source": [
    "keeps = [\"LONGITUDE\", \"LATITUDE\", \"FLOOR\", \"BUILDINGID\",\"PHONEID\"]"
   ]
  },
  {
   "cell_type": "code",
   "execution_count": null,
   "metadata": {},
   "outputs": [],
   "source": [
    "valid3 = valid2[keeps]"
   ]
  },
  {
   "cell_type": "code",
   "execution_count": null,
   "metadata": {},
   "outputs": [],
   "source": [
    "valid4 = pd.concat([valid3, waps7], axis=1)"
   ]
  },
  {
   "cell_type": "code",
   "execution_count": null,
   "metadata": {},
   "outputs": [],
   "source": [
    "valid5 = valid4.loc[:,common_cols(X_train2,valid4)].dropna(axis = 'columns', thresh = 1)"
   ]
  },
  {
   "cell_type": "code",
   "execution_count": null,
   "metadata": {},
   "outputs": [],
   "source": [
    "#len(waps8.columns)"
   ]
  },
  {
   "cell_type": "markdown",
   "metadata": {},
   "source": [
    "### Find common varying waps in train & valid"
   ]
  },
  {
   "cell_type": "code",
   "execution_count": null,
   "metadata": {
    "scrolled": true
   },
   "outputs": [],
   "source": [
    "def common_cols(less_colsDF, df):\n",
    "    com_cols = []\n",
    "    for i in range(0,len(less_colsDF.columns)):\n",
    "        if any(elem in list(less_colsDF.columns[i]) for elem in list(df.columns)):\n",
    "            com_cols.append(less_colsDF.columns[i])\n",
    "    return com_cols"
   ]
  },
  {
   "cell_type": "code",
   "execution_count": null,
   "metadata": {},
   "outputs": [],
   "source": [
    "#len(valid4.columns)"
   ]
  },
  {
   "cell_type": "markdown",
   "metadata": {},
   "source": [
    "## Classification"
   ]
  },
  {
   "cell_type": "code",
   "execution_count": null,
   "metadata": {},
   "outputs": [],
   "source": [
    "keeps = [\"BUILDINGID\", \"FLOOR\"]\n",
    "y_valid = valid4[keeps]"
   ]
  },
  {
   "cell_type": "code",
   "execution_count": null,
   "metadata": {},
   "outputs": [],
   "source": [
    "waps8 = waps7[common_cols(waps7,X_train2)]# validation-waps with the same columns as training set"
   ]
  },
  {
   "cell_type": "code",
   "execution_count": null,
   "metadata": {},
   "outputs": [],
   "source": [
    "waps9 = waps8.loc[:,common_cols(X_train2,valid4)].dropna(axis = 'columns', thresh = 1)"
   ]
  },
  {
   "cell_type": "code",
   "execution_count": null,
   "metadata": {},
   "outputs": [],
   "source": [
    "#len(valid5.columns)"
   ]
  },
  {
   "cell_type": "markdown",
   "metadata": {},
   "source": [
    "### Random Forest"
   ]
  },
  {
   "cell_type": "code",
   "execution_count": null,
   "metadata": {
    "slideshow": {
     "slide_type": "slide"
    }
   },
   "outputs": [],
   "source": [
    "y_3 = model.predict(waps9)\n",
    "print(acc_cust(valid4,y_3))"
   ]
  },
  {
   "cell_type": "markdown",
   "metadata": {},
   "source": [
    "### GBT"
   ]
  },
  {
   "cell_type": "code",
   "execution_count": null,
   "metadata": {},
   "outputs": [],
   "source": [
    "y_4 = clf_model3.predict(waps9)\n",
    "print(acc_cust(valid4,y_4))"
   ]
  },
  {
   "cell_type": "code",
   "execution_count": null,
   "metadata": {},
   "outputs": [],
   "source": []
  },
  {
   "cell_type": "code",
   "execution_count": null,
   "metadata": {},
   "outputs": [],
   "source": []
  },
  {
   "cell_type": "markdown",
   "metadata": {},
   "source": [
    "## Regression"
   ]
  },
  {
   "cell_type": "markdown",
   "metadata": {},
   "source": [
    "### Define regression_y"
   ]
  },
  {
   "cell_type": "code",
   "execution_count": null,
   "metadata": {},
   "outputs": [],
   "source": [
    "keeps = [\"LATITUDE\", \"LONGITUDE\"]\n",
    "y_valid = valid4[keeps]"
   ]
  },
  {
   "cell_type": "markdown",
   "metadata": {},
   "source": [
    "### Use same column order"
   ]
  },
  {
   "cell_type": "code",
   "execution_count": null,
   "metadata": {},
   "outputs": [],
   "source": [
    "cols = y_valid.columns.tolist()"
   ]
  },
  {
   "cell_type": "code",
   "execution_count": null,
   "metadata": {},
   "outputs": [],
   "source": [
    "cols = cols[-1:] + cols[:-1]"
   ]
  },
  {
   "cell_type": "code",
   "execution_count": null,
   "metadata": {},
   "outputs": [],
   "source": [
    "cols"
   ]
  },
  {
   "cell_type": "code",
   "execution_count": null,
   "metadata": {},
   "outputs": [],
   "source": [
    "y_valid2 = y_valid[cols]"
   ]
  },
  {
   "cell_type": "markdown",
   "metadata": {},
   "source": [
    "### Calculate R-squared"
   ]
  },
  {
   "cell_type": "code",
   "execution_count": null,
   "metadata": {},
   "outputs": [],
   "source": [
    "valid_pred1 = reg_model1.predict(valid5) # Random Forest"
   ]
  },
  {
   "cell_type": "code",
   "execution_count": null,
   "metadata": {},
   "outputs": [],
   "source": [
    "print(r2_score(y_valid2, valid_pred1)) # Random Forest "
   ]
  },
  {
   "cell_type": "code",
   "execution_count": null,
   "metadata": {},
   "outputs": [],
   "source": [
    "#reg_model2.score(valid5, y_valid2)    # GBT"
   ]
  },
  {
   "cell_type": "code",
   "execution_count": null,
   "metadata": {},
   "outputs": [],
   "source": [
    "valid_pred2 = reg_model2.predict(valid5)  # GBT"
   ]
  },
  {
   "cell_type": "code",
   "execution_count": null,
   "metadata": {},
   "outputs": [],
   "source": [
    "print(r2_score(y_valid2, valid_pred2))     # GBT"
   ]
  },
  {
   "cell_type": "markdown",
   "metadata": {},
   "source": [
    "### Calculate RMSE"
   ]
  },
  {
   "cell_type": "code",
   "execution_count": null,
   "metadata": {},
   "outputs": [],
   "source": [
    "print(mean_squared_error(y_valid2, valid_pred1)**0.5) # Random Forest"
   ]
  },
  {
   "cell_type": "markdown",
   "metadata": {
    "slideshow": {
     "slide_type": "slide"
    }
   },
   "source": [
    "# The product & the process"
   ]
  },
  {
   "cell_type": "markdown",
   "metadata": {
    "slideshow": {
     "slide_type": "subslide"
    }
   },
   "source": [
    "## Goal of the client"
   ]
  },
  {
   "cell_type": "markdown",
   "metadata": {
    "slideshow": {
     "slide_type": "fragment"
    }
   },
   "source": [
    "- System (App) to help people navigate in complex, unfamiliar interior space "
   ]
  },
  {
   "cell_type": "markdown",
   "metadata": {
    "slideshow": {
     "slide_type": "slide"
    }
   },
   "source": [
    "## Data-scientific requierements for development"
   ]
  },
  {
   "cell_type": "markdown",
   "metadata": {
    "slideshow": {
     "slide_type": "subslide"
    }
   },
   "source": [
    "### Basic version"
   ]
  },
  {
   "cell_type": "markdown",
   "metadata": {
    "slideshow": {
     "slide_type": "fragment"
    }
   },
   "source": [
    "- Collect training data for every new building\n",
    "- Embedd trained model into app\n",
    "- Use incoming streams of user data for further refinement"
   ]
  },
  {
   "cell_type": "markdown",
   "metadata": {
    "slideshow": {
     "slide_type": "subslide"
    }
   },
   "source": [
    "### Future version"
   ]
  },
  {
   "cell_type": "markdown",
   "metadata": {
    "slideshow": {
     "slide_type": "fragment"
    }
   },
   "source": [
    "- Collect Altitude, combine with Latitude & Longitude\n",
    "- Combine 3D-locationing with 3D-world-map"
   ]
  },
  {
   "cell_type": "markdown",
   "metadata": {
    "slideshow": {
     "slide_type": "slide"
    }
   },
   "source": [
    "## Our Goal "
   ]
  },
  {
   "cell_type": "markdown",
   "metadata": {
    "slideshow": {
     "slide_type": "subslide"
    }
   },
   "source": [
    "### Data Science processes for different algorithms consisting of different pipelines:"
   ]
  },
  {
   "cell_type": "markdown",
   "metadata": {
    "slideshow": {
     "slide_type": "fragment"
    }
   },
   "source": [
    "- Preprocess (Change data-types, remove NANs, outliers, alter ranges, normalize...)\n",
    "\n",
    "- Feature Selection (WAPs with variance, Random-Forest-based, stationarity)\n",
    "\n",
    "- Stratified Splitting (training-, test- & validation set)\n",
    "\n",
    "- Cross-validation\n",
    "\n",
    "- Testing on test set\n",
    "\n",
    "- paramter-tuning based on test set\n",
    "\n",
    "- test on validation set"
   ]
  },
  {
   "cell_type": "markdown",
   "metadata": {
    "slideshow": {
     "slide_type": "subslide"
    }
   },
   "source": [
    "### Choose model (algorithm) based on validation set metrics"
   ]
  },
  {
   "cell_type": "markdown",
   "metadata": {
    "slideshow": {
     "slide_type": "subslide"
    }
   },
   "source": [
    "### Automate process for incoming streams of data"
   ]
  },
  {
   "cell_type": "markdown",
   "metadata": {
    "slideshow": {
     "slide_type": "slide"
    }
   },
   "source": [
    "## Progress"
   ]
  },
  {
   "cell_type": "markdown",
   "metadata": {
    "slideshow": {
     "slide_type": "subslide"
    }
   },
   "source": [
    "### Done:"
   ]
  },
  {
   "cell_type": "markdown",
   "metadata": {
    "slideshow": {
     "slide_type": "fragment"
    }
   },
   "source": [
    "- The idea of predicting the location with the given data, works\n",
    "- The next improvement will be in applying new range\n",
    "- -> Preprocessing, esp. Router selection important\n",
    "- Multi-output regression & classification works for many models\n",
    "- -> reduces processing time when choosing algorithms automatically and when automating for streams\n",
    "\n"
   ]
  },
  {
   "cell_type": "markdown",
   "metadata": {
    "slideshow": {
     "slide_type": "subslide"
    }
   },
   "source": [
    "### The next steps "
   ]
  },
  {
   "cell_type": "markdown",
   "metadata": {
    "slideshow": {
     "slide_type": "fragment"
    }
   },
   "source": [
    "- Applying new range \n",
    "- Test more algorithms\n",
    "- Look at user behaviour (external validity)\n",
    "- Different phones, different models?\n",
    "- build pipelines, generalize functions & build packages\n",
    "- Are labels of Classification predictors of regression in other models?"
   ]
  },
  {
   "cell_type": "markdown",
   "metadata": {
    "slideshow": {
     "slide_type": "slide"
    }
   },
   "source": [
    "## Results"
   ]
  },
  {
   "cell_type": "code",
   "execution_count": null,
   "metadata": {
    "slideshow": {
     "slide_type": "subslide"
    }
   },
   "outputs": [],
   "source": [
    "### Visualize predictions\n",
    "\n",
    "measured = {                              # run sections below\n",
    "  \"x\":y_valid2['LONGITUDE'], \n",
    "  \"y\": y_valid2['LATITUDE'], \n",
    "  \"z\": valid4['FLOOR'], \n",
    "  \"marker\": {\n",
    "    \"color\": \"blue\", \n",
    "    \"colorscale\": \"Viridis\", \n",
    "    \"opacity\": 1, \n",
    "    \"size\": 4\n",
    "  }, \n",
    "  \"mode\": \"markers\", \n",
    "  \"name\": \"measured\", \n",
    "  \"type\": \"scatter3d\"\n",
    "}\n",
    "\n",
    "predictions = {\n",
    "  \"x\":valid_pred1['LONGITUDE'], \n",
    "  \"y\": valid_pred1['LATITUDE'], \n",
    "  \"z\": y_3['FLOOR'], \n",
    "  \"marker\": {\n",
    "    \"color\": \"yellow\", \n",
    "    \"colorscale\": \"Viridis\", \n",
    "    \"opacity\": 1, \n",
    "    \"size\": 4\n",
    "  }, \n",
    "  \"mode\": \"markers\", \n",
    "  \"name\": \"predictions\", \n",
    "  \"type\": \"scatter3d\"\n",
    "}\n",
    "\n",
    "data = Data([measured,predictions])\n",
    "layout = {\n",
    "  \"scene\": {\n",
    "    \"xaxis\": {\"title\": \"Longitude\"}, \n",
    "    \"yaxis\": {\"title\": \"Atitude\"}, \n",
    "    \"zaxis\": {\"title\": \"Floor\"}\n",
    "  }, \n",
    "  \"title\": \"WiFi-Locationing in 3 Buildings\"\n",
    "}\n",
    "\n",
    "fig = Figure(data=data, layout=layout)\n",
    "py.iplot(fig)"
   ]
  },
  {
   "cell_type": "markdown",
   "metadata": {},
   "source": [
    "# Reflection on done work"
   ]
  },
  {
   "cell_type": "markdown",
   "metadata": {},
   "source": [
    "## Used Multi-output methods"
   ]
  },
  {
   "cell_type": "code",
   "execution_count": null,
   "metadata": {},
   "outputs": [],
   "source": []
  }
 ],
 "metadata": {
  "kernelspec": {
   "display_name": "Python 3",
   "language": "python",
   "name": "python3"
  },
  "language_info": {
   "codemirror_mode": {
    "name": "ipython",
    "version": 3
   },
   "file_extension": ".py",
   "mimetype": "text/x-python",
   "name": "python",
   "nbconvert_exporter": "python",
   "pygments_lexer": "ipython3",
   "version": "3.7.0"
  }
 },
 "nbformat": 4,
 "nbformat_minor": 2
}
