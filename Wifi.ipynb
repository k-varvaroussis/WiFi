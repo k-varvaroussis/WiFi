{
 "cells": [
  {
   "cell_type": "code",
   "execution_count": 1,
   "metadata": {},
   "outputs": [],
   "source": [
    "import pandas as pd"
   ]
  },
  {
   "cell_type": "code",
   "execution_count": 2,
   "metadata": {},
   "outputs": [],
   "source": [
    "training_df = pd.read_csv(\"trainingData.csv\")\n",
    "validation_df = pd.read_csv(\"validationData.csv\")"
   ]
  },
  {
   "cell_type": "code",
   "execution_count": 3,
   "metadata": {},
   "outputs": [],
   "source": [
    "#The unix time stamp is a way to track time as a running total of seconds. This count starts at the Unix Epoch \n",
    "#on January 1st, 1970 at UTC. Therefore, the unix time stamp is merely the number of seconds between a particular \n",
    "#date and the Unix Epoch\n",
    "training_df['TIMESTAMP'] = pd.to_datetime(training_df['TIMESTAMP'] , unit='s')\n",
    "validation_df['TIMESTAMP'] = pd.to_datetime(validation_df['TIMESTAMP'] , unit='s')"
   ]
  },
  {
   "cell_type": "code",
   "execution_count": 4,
   "metadata": {},
   "outputs": [
    {
     "data": {
      "text/plain": [
       "0       2013-06-20 07:35:33\n",
       "1       2013-06-20 07:34:51\n",
       "2       2013-06-20 07:41:35\n",
       "3       2013-06-20 07:36:47\n",
       "4       2013-05-30 10:28:30\n",
       "5       2013-06-20 07:37:21\n",
       "6       2013-06-20 07:38:03\n",
       "7       2013-06-20 07:36:15\n",
       "8       2013-06-20 07:45:07\n",
       "9       2013-06-20 07:42:08\n",
       "10      2013-06-20 07:43:20\n",
       "11      2013-06-20 07:42:46\n",
       "12      2013-06-20 07:46:33\n",
       "13      2013-06-20 07:47:47\n",
       "14      2013-06-20 07:47:13\n",
       "15      2013-06-20 07:45:55\n",
       "16      2013-06-20 07:48:29\n",
       "17      2013-06-20 07:52:10\n",
       "18      2013-06-20 07:53:22\n",
       "19      2013-06-20 07:49:16\n",
       "20      2013-06-20 07:52:52\n",
       "21      2013-06-20 07:55:19\n",
       "22      2013-06-20 07:55:46\n",
       "23      2013-06-20 07:54:39\n",
       "24      2013-06-20 07:54:07\n",
       "25      2013-06-20 07:56:32\n",
       "26      2013-06-20 07:57:21\n",
       "27      2013-06-20 07:58:02\n",
       "28      2013-06-20 08:00:59\n",
       "29      2013-06-20 08:00:27\n",
       "                ...        \n",
       "19907   2013-06-20 06:24:54\n",
       "19908   2013-06-20 06:25:20\n",
       "19909   2013-06-20 06:26:26\n",
       "19910   2013-06-20 06:29:53\n",
       "19911   2013-06-20 06:30:31\n",
       "19912   2013-06-20 06:30:46\n",
       "19913   2013-06-20 06:31:20\n",
       "19914   2013-06-20 06:31:46\n",
       "19915   2013-06-20 06:34:07\n",
       "19916   2013-06-20 06:32:17\n",
       "19917   2013-06-20 06:33:32\n",
       "19918   2013-06-20 06:33:04\n",
       "19919   2013-06-20 06:32:39\n",
       "19920   2013-06-20 06:35:00\n",
       "19921   2013-06-20 06:36:30\n",
       "19922   2013-06-20 06:36:05\n",
       "19923   2013-06-20 06:35:30\n",
       "19924   2013-06-20 06:34:28\n",
       "19925   2013-06-20 06:37:35\n",
       "19926   2013-06-20 06:37:19\n",
       "19927   2013-06-20 06:39:42\n",
       "19928   2013-06-20 06:37:01\n",
       "19929   2013-06-20 06:44:12\n",
       "19930   2013-06-20 06:46:57\n",
       "19931   2013-06-20 06:40:20\n",
       "19932   2013-06-20 06:44:43\n",
       "19933   2013-06-20 06:40:02\n",
       "19934   2013-06-20 06:48:41\n",
       "19935   2013-06-20 06:50:49\n",
       "19936   2013-06-20 06:50:25\n",
       "Name: TIMESTAMP, Length: 19937, dtype: datetime64[ns]"
      ]
     },
     "execution_count": 4,
     "metadata": {},
     "output_type": "execute_result"
    }
   ],
   "source": [
    "training_df['TIMESTAMP']"
   ]
  },
  {
   "cell_type": "code",
   "execution_count": null,
   "metadata": {},
   "outputs": [],
   "source": []
  }
 ],
 "metadata": {
  "kernelspec": {
   "display_name": "Python 3",
   "language": "python",
   "name": "python3"
  },
  "language_info": {
   "codemirror_mode": {
    "name": "ipython",
    "version": 3
   },
   "file_extension": ".py",
   "mimetype": "text/x-python",
   "name": "python",
   "nbconvert_exporter": "python",
   "pygments_lexer": "ipython3",
   "version": "3.6.5"
  }
 },
 "nbformat": 4,
 "nbformat_minor": 2
}
