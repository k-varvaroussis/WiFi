{
 "cells": [
  {
   "cell_type": "code",
   "execution_count": 5,
   "metadata": {},
   "outputs": [],
   "source": [
    "import pandas as pd"
   ]
  },
  {
   "cell_type": "code",
   "execution_count": 6,
   "metadata": {},
   "outputs": [],
   "source": [
    "training_df = pd.read_csv(\"trainingData.csv\")\n",
    "validation_df = pd.read_csv(\"validationData.csv\")"
   ]
  },
  {
   "cell_type": "code",
   "execution_count": 9,
   "metadata": {},
   "outputs": [],
   "source": [
    "#The unix time stamp is a way to track time as a running total of seconds. This count starts at the Unix Epoch \n",
    "#on January 1st, 1970 at UTC. Therefore, the unix time stamp is merely the number of seconds between a particular \n",
    "#date and the Unix Epoch\n",
    "training_df['TIMESTAMP'] = pd.to_datetime(training_df['TIMESTAMP'] , unit='s')\n",
    "validation_df['TIMESTAMP'] = pd.to_datetime(validation_df['TIMESTAMP'] , unit='s')"
   ]
  },
  {
   "cell_type": "code",
   "execution_count": 11,
   "metadata": {},
   "outputs": [
    {
     "data": {
      "text/plain": [
       "0   2013-06-20 07:35:33\n",
       "1   2013-06-20 07:34:51\n",
       "2   2013-06-20 07:41:35\n",
       "3   2013-06-20 07:36:47\n",
       "4   2013-05-30 10:28:30\n",
       "Name: TIMESTAMP, dtype: datetime64[ns]"
      ]
     },
     "execution_count": 11,
     "metadata": {},
     "output_type": "execute_result"
    }
   ],
   "source": [
    "training_df['TIMESTAMP'].head()"
   ]
  },
  {
   "cell_type": "code",
   "execution_count": null,
   "metadata": {},
   "outputs": [],
   "source": []
  }
 ],
 "metadata": {
  "kernelspec": {
   "display_name": "Python 3",
   "language": "python",
   "name": "python3"
  },
  "language_info": {
   "codemirror_mode": {
    "name": "ipython",
    "version": 3
   },
   "file_extension": ".py",
   "mimetype": "text/x-python",
   "name": "python",
   "nbconvert_exporter": "python",
   "pygments_lexer": "ipython3",
   "version": "3.6.5"
  }
 },
 "nbformat": 4,
 "nbformat_minor": 2
}
