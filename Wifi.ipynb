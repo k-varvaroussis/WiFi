{
 "cells": [
  {
   "cell_type": "code",
   "execution_count": 5,
   "metadata": {},
   "outputs": [],
   "source": [
    "import pandas as pd"
   ]
  },
  {
   "cell_type": "code",
   "execution_count": 6,
   "metadata": {},
   "outputs": [],
   "source": [
    "training_df = pd.read_csv(\"trainingData.csv\")\n",
    "validation_df = pd.read_csv(\"validationData.csv\")"
   ]
  },
  {
   "cell_type": "code",
   "execution_count": 3,
   "metadata": {},
   "outputs": [],
   "source": [
    "#The unix time stamp is a way to track time as a running total of seconds. This count starts at the Unix Epoch \n",
    "#on January 1st, 1970 at UTC. Therefore, the unix time stamp is merely the number of seconds between a particular \n",
    "#date and the Unix Epoch\n",
    "training_df['TIMESTAMP'] = pd.to_datetime(training_df['TIMESTAMP'] , unit='s')\n",
    "validation_df['TIMESTAMP'] = pd.to_datetime(validation_df['TIMESTAMP'] , unit='s')"
   ]
  },
  {
   "cell_type": "code",
   "execution_count": null,
   "metadata": {},
   "outputs": [],
   "source": []
  }
 ],
 "metadata": {
  "kernelspec": {
   "display_name": "Python 3",
   "language": "python",
   "name": "python3"
  },
  "language_info": {
   "codemirror_mode": {
    "name": "ipython",
    "version": 3
   },
   "file_extension": ".py",
   "mimetype": "text/x-python",
   "name": "python",
   "nbconvert_exporter": "python",
   "pygments_lexer": "ipython3",
   "version": "3.6.5"
  }
 },
 "nbformat": 4,
 "nbformat_minor": 2
}
